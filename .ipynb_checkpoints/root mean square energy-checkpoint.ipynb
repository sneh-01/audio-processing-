{
 "cells": [
  {
   "cell_type": "code",
   "execution_count": 1,
   "id": "cc29ad9e",
   "metadata": {},
   "outputs": [],
   "source": [
    "import librosa\n",
    "import librosa.display\n",
    "import IPython.display as ipd\n",
    "import matplotlib.pyplot as plt"
   ]
  },
  {
   "cell_type": "code",
   "execution_count": 3,
   "id": "7c015cc2",
   "metadata": {},
   "outputs": [],
   "source": [
    "a = \"E:\\\\audio processing\\\\audio files\\\\sample-6s.mp3\"\n",
    "b = \"E:\\\\audio processing\\\\audio files\\\\white-noise-8117.mp3\"\n",
    "c = \"E:\\\\audio processing\\\\audio files\\\\news-time-intro-13620.mp3\""
   ]
  },
  {
   "cell_type": "code",
   "execution_count": 6,
   "id": "e9f841db",
   "metadata": {},
   "outputs": [],
   "source": [
    "ipd.Audio(a)\n",
    "ipd.Audio(b)\n",
    "ipd.Audio(c)\n",
    "\n",
    "audio1 , sr = librosa.load(a)\n",
    "audio2 , sr = librosa.load(b)\n",
    "audio3 , sr =librosa.load(c)"
   ]
  },
  {
   "cell_type": "markdown",
   "id": "8d0711c5",
   "metadata": {},
   "source": [
    "import librosa\n",
    "import librosa.display\n",
    "import matplotlib.pyplot as plt\n",
    "\n",
    "# Assuming you have already loaded the audio data and sampling rate\n",
    "# using librosa.load, as in your previous code snippet.\n",
    "\n",
    "FRAME_LENGTH = 1024\n",
    "HOP_LENGTH = 512\n",
    "\n",
    "# Calculate RMS features\n",
    "rms_audio1 = librosa.feature.rms(audio1, frame_length=FRAME_LENGTH, hop_length=HOP_LENGTH)\n",
    "rms_audio2 = librosa.feature.rms(audio2, frame_length=FRAME_LENGTH, hop_length=HOP_LENGTH)\n",
    "rms_audio3 = librosa.feature.rms(audio3, frame_length=FRAME_LENGTH, hop_length=HOP_LENGTH)\n",
    "\n",
    "# # Visualize the RMS features\n",
    "# plt.figure(figsize=(15, 8))\n",
    "\n",
    "# plt.subplot(3, 1, 1)\n",
    "# librosa.display.waveshow(audio1, rms_audio1, alpha=0.5)\n",
    "# plt.title('RMS Feature - audio1')\n",
    "\n",
    "# plt.subplot(3, 1, 2)\n",
    "# librosa.display.waveshow(audio2, rms_audio2, alpha=0.5)\n",
    "# plt.title('RMS Feature - audio2')\n",
    "\n",
    "# plt.subplot(3, 1, 3)\n",
    "# librosa.display.waveshow(audio3, rms_audio3, alpha=0.5)\n",
    "# plt.title('RMS Feature - audio3')\n",
    "\n",
    "# plt.show()\n"
   ]
  },
  {
   "cell_type": "code",
   "execution_count": null,
   "id": "799f6d6f",
   "metadata": {},
   "outputs": [],
   "source": []
  },
  {
   "cell_type": "code",
   "execution_count": null,
   "id": "ee98ba0f",
   "metadata": {},
   "outputs": [],
   "source": []
  }
 ],
 "metadata": {
  "kernelspec": {
   "display_name": "Python 3 (ipykernel)",
   "language": "python",
   "name": "python3"
  },
  "language_info": {
   "codemirror_mode": {
    "name": "ipython",
    "version": 3
   },
   "file_extension": ".py",
   "mimetype": "text/x-python",
   "name": "python",
   "nbconvert_exporter": "python",
   "pygments_lexer": "ipython3",
   "version": "3.11.1"
  }
 },
 "nbformat": 4,
 "nbformat_minor": 5
}
